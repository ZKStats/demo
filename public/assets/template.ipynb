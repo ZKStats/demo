{
 "cells": [
  {
   "cell_type": "code",
   "execution_count": 1,
   "metadata": {},
   "outputs": [
    {
     "name": "stdout",
     "output_type": "stream",
     "text": [
      "Requirement already satisfied: torch in /Users/mhchia/Library/Caches/pypoetry/virtualenvs/zkstats-brXmXluj-py3.12/lib/python3.12/site-packages (2.2.2)\n",
      "Collecting zkstats==0.1.7\n",
      "  Downloading zkstats-0.1.7-py3-none-any.whl.metadata (714 bytes)\n",
      "Requirement already satisfied: click<9.0.0,>=8.1.7 in /Users/mhchia/Library/Caches/pypoetry/virtualenvs/zkstats-brXmXluj-py3.12/lib/python3.12/site-packages (from zkstats==0.1.7) (8.1.7)\n",
      "Requirement already satisfied: ezkl==9.1.0 in /Users/mhchia/Library/Caches/pypoetry/virtualenvs/zkstats-brXmXluj-py3.12/lib/python3.12/site-packages (from zkstats==0.1.7) (9.1.0)\n",
      "Requirement already satisfied: matplotlib<4.0.0,>=3.8.2 in /Users/mhchia/Library/Caches/pypoetry/virtualenvs/zkstats-brXmXluj-py3.12/lib/python3.12/site-packages (from zkstats==0.1.7) (3.8.4)\n",
      "Requirement already satisfied: numpy<2.0.0,>=1.26.2 in /Users/mhchia/Library/Caches/pypoetry/virtualenvs/zkstats-brXmXluj-py3.12/lib/python3.12/site-packages (from zkstats==0.1.7) (1.26.4)\n",
      "Requirement already satisfied: onnx<2.0.0,>=1.15.0 in /Users/mhchia/Library/Caches/pypoetry/virtualenvs/zkstats-brXmXluj-py3.12/lib/python3.12/site-packages (from zkstats==0.1.7) (1.16.0)\n",
      "Requirement already satisfied: requests<3.0.0,>=2.31.0 in /Users/mhchia/Library/Caches/pypoetry/virtualenvs/zkstats-brXmXluj-py3.12/lib/python3.12/site-packages (from zkstats==0.1.7) (2.31.0)\n",
      "Requirement already satisfied: scipy<2.0.0,>=1.11.4 in /Users/mhchia/Library/Caches/pypoetry/virtualenvs/zkstats-brXmXluj-py3.12/lib/python3.12/site-packages (from zkstats==0.1.7) (1.13.0)\n",
      "Requirement already satisfied: statistics<2.0.0,>=1.0.3 in /Users/mhchia/Library/Caches/pypoetry/virtualenvs/zkstats-brXmXluj-py3.12/lib/python3.12/site-packages (from zkstats==0.1.7) (1.0.3.5)\n",
      "Requirement already satisfied: filelock in /Users/mhchia/Library/Caches/pypoetry/virtualenvs/zkstats-brXmXluj-py3.12/lib/python3.12/site-packages (from torch) (3.13.4)\n",
      "Requirement already satisfied: typing-extensions>=4.8.0 in /Users/mhchia/Library/Caches/pypoetry/virtualenvs/zkstats-brXmXluj-py3.12/lib/python3.12/site-packages (from torch) (4.11.0)\n",
      "Requirement already satisfied: sympy in /Users/mhchia/Library/Caches/pypoetry/virtualenvs/zkstats-brXmXluj-py3.12/lib/python3.12/site-packages (from torch) (1.12)\n",
      "Requirement already satisfied: networkx in /Users/mhchia/Library/Caches/pypoetry/virtualenvs/zkstats-brXmXluj-py3.12/lib/python3.12/site-packages (from torch) (3.2.1)\n",
      "Requirement already satisfied: jinja2 in /Users/mhchia/Library/Caches/pypoetry/virtualenvs/zkstats-brXmXluj-py3.12/lib/python3.12/site-packages (from torch) (3.1.3)\n",
      "Requirement already satisfied: fsspec in /Users/mhchia/Library/Caches/pypoetry/virtualenvs/zkstats-brXmXluj-py3.12/lib/python3.12/site-packages (from torch) (2024.3.1)\n",
      "Requirement already satisfied: contourpy>=1.0.1 in /Users/mhchia/Library/Caches/pypoetry/virtualenvs/zkstats-brXmXluj-py3.12/lib/python3.12/site-packages (from matplotlib<4.0.0,>=3.8.2->zkstats==0.1.7) (1.2.1)\n",
      "Requirement already satisfied: cycler>=0.10 in /Users/mhchia/Library/Caches/pypoetry/virtualenvs/zkstats-brXmXluj-py3.12/lib/python3.12/site-packages (from matplotlib<4.0.0,>=3.8.2->zkstats==0.1.7) (0.12.1)\n",
      "Requirement already satisfied: fonttools>=4.22.0 in /Users/mhchia/Library/Caches/pypoetry/virtualenvs/zkstats-brXmXluj-py3.12/lib/python3.12/site-packages (from matplotlib<4.0.0,>=3.8.2->zkstats==0.1.7) (4.51.0)\n",
      "Requirement already satisfied: kiwisolver>=1.3.1 in /Users/mhchia/Library/Caches/pypoetry/virtualenvs/zkstats-brXmXluj-py3.12/lib/python3.12/site-packages (from matplotlib<4.0.0,>=3.8.2->zkstats==0.1.7) (1.4.5)\n",
      "Requirement already satisfied: packaging>=20.0 in /Users/mhchia/Library/Caches/pypoetry/virtualenvs/zkstats-brXmXluj-py3.12/lib/python3.12/site-packages (from matplotlib<4.0.0,>=3.8.2->zkstats==0.1.7) (24.0)\n",
      "Requirement already satisfied: pillow>=8 in /Users/mhchia/Library/Caches/pypoetry/virtualenvs/zkstats-brXmXluj-py3.12/lib/python3.12/site-packages (from matplotlib<4.0.0,>=3.8.2->zkstats==0.1.7) (10.3.0)\n",
      "Requirement already satisfied: pyparsing>=2.3.1 in /Users/mhchia/Library/Caches/pypoetry/virtualenvs/zkstats-brXmXluj-py3.12/lib/python3.12/site-packages (from matplotlib<4.0.0,>=3.8.2->zkstats==0.1.7) (3.1.2)\n",
      "Requirement already satisfied: python-dateutil>=2.7 in /Users/mhchia/Library/Caches/pypoetry/virtualenvs/zkstats-brXmXluj-py3.12/lib/python3.12/site-packages (from matplotlib<4.0.0,>=3.8.2->zkstats==0.1.7) (2.9.0.post0)\n",
      "Requirement already satisfied: protobuf>=3.20.2 in /Users/mhchia/Library/Caches/pypoetry/virtualenvs/zkstats-brXmXluj-py3.12/lib/python3.12/site-packages (from onnx<2.0.0,>=1.15.0->zkstats==0.1.7) (4.25.3)\n",
      "Requirement already satisfied: charset-normalizer<4,>=2 in /Users/mhchia/Library/Caches/pypoetry/virtualenvs/zkstats-brXmXluj-py3.12/lib/python3.12/site-packages (from requests<3.0.0,>=2.31.0->zkstats==0.1.7) (3.3.2)\n",
      "Requirement already satisfied: idna<4,>=2.5 in /Users/mhchia/Library/Caches/pypoetry/virtualenvs/zkstats-brXmXluj-py3.12/lib/python3.12/site-packages (from requests<3.0.0,>=2.31.0->zkstats==0.1.7) (3.7)\n",
      "Requirement already satisfied: urllib3<3,>=1.21.1 in /Users/mhchia/Library/Caches/pypoetry/virtualenvs/zkstats-brXmXluj-py3.12/lib/python3.12/site-packages (from requests<3.0.0,>=2.31.0->zkstats==0.1.7) (2.2.1)\n",
      "Requirement already satisfied: certifi>=2017.4.17 in /Users/mhchia/Library/Caches/pypoetry/virtualenvs/zkstats-brXmXluj-py3.12/lib/python3.12/site-packages (from requests<3.0.0,>=2.31.0->zkstats==0.1.7) (2024.2.2)\n",
      "Requirement already satisfied: docutils>=0.3 in /Users/mhchia/Library/Caches/pypoetry/virtualenvs/zkstats-brXmXluj-py3.12/lib/python3.12/site-packages (from statistics<2.0.0,>=1.0.3->zkstats==0.1.7) (0.21.1)\n",
      "Requirement already satisfied: MarkupSafe>=2.0 in /Users/mhchia/Library/Caches/pypoetry/virtualenvs/zkstats-brXmXluj-py3.12/lib/python3.12/site-packages (from jinja2->torch) (2.1.5)\n",
      "Requirement already satisfied: mpmath>=0.19 in /Users/mhchia/Library/Caches/pypoetry/virtualenvs/zkstats-brXmXluj-py3.12/lib/python3.12/site-packages (from sympy->torch) (1.3.0)\n",
      "Requirement already satisfied: six>=1.5 in /Users/mhchia/Library/Caches/pypoetry/virtualenvs/zkstats-brXmXluj-py3.12/lib/python3.12/site-packages (from python-dateutil>=2.7->matplotlib<4.0.0,>=3.8.2->zkstats==0.1.7) (1.16.0)\n",
      "Downloading zkstats-0.1.7-py3-none-any.whl (15 kB)\n",
      "Installing collected packages: zkstats\n",
      "  Attempting uninstall: zkstats\n",
      "    Found existing installation: zkstats 0.1.6\n",
      "    Uninstalling zkstats-0.1.6:\n",
      "      Successfully uninstalled zkstats-0.1.6\n",
      "Successfully installed zkstats-0.1.7\n",
      "\n",
      "\u001b[1m[\u001b[0m\u001b[34;49mnotice\u001b[0m\u001b[1;39;49m]\u001b[0m\u001b[39;49m A new release of pip is available: \u001b[0m\u001b[31;49m23.3.1\u001b[0m\u001b[39;49m -> \u001b[0m\u001b[32;49m24.1\u001b[0m\n",
      "\u001b[1m[\u001b[0m\u001b[34;49mnotice\u001b[0m\u001b[1;39;49m]\u001b[0m\u001b[39;49m To update, run: \u001b[0m\u001b[32;49mpip install --upgrade pip\u001b[0m\n",
      "Note: you may need to restart the kernel to use updated packages.\n"
     ]
    }
   ],
   "source": [
    "%pip install torch zkstats==0.1.7"
   ]
  },
  {
   "cell_type": "code",
   "execution_count": 2,
   "metadata": {},
   "outputs": [],
   "source": [
    "import json\n",
    "import os\n",
    "from zkstats.core import (\n",
    "    prover_gen_settings,\n",
    "    prover_gen_proof,\n",
    "    setup,\n",
    "    verifier_verify,\n",
    ")\n",
    "from zkstats.computation import computation_to_model\n",
    "\n",
    "cwd = os.getcwd()\n",
    "\n",
    "# FIXME: fill this in with the path to your data\n",
    "data_path = f\"{cwd}/data.json\"\n",
    "\n",
    "# Paths to the output files\n",
    "output_dir = f\"{cwd}/out\"\n",
    "os.makedirs(output_dir, exist_ok=True)\n",
    "model_onnx_path = f\"{output_dir}/model.onnx\"\n",
    "compiled_model_path = f\"{output_dir}/model.compiled\"\n",
    "\n",
    "pk_path = f\"{output_dir}/model.pk\"\n",
    "vk_path = f\"{output_dir}/model.vk\"\n",
    "proof_path = f\"{output_dir}/model.pf\"\n",
    "settings_path = f\"{output_dir}/settings.json\"\n",
    "witness_path = f\"{output_dir}/witness.json\"\n",
    "comb_data_path = f\"{output_dir}/comb_data.json\"\n",
    "precal_witness_path = f\"{output_dir}/precal_witness.json\""
   ]
  },
  {
   "cell_type": "code",
   "execution_count": 3,
   "metadata": {},
   "outputs": [
    {
     "name": "stdout",
     "output_type": "stream",
     "text": [
      "{'x': 7, 'y': 7}\n"
     ]
    }
   ],
   "source": [
    "# Data provided shared by the data provider beforehand\n",
    "\n",
    "def get_data_shape(data_path: str) -> dict[str, int]:\n",
    "    \"\"\"\n",
    "    Get the shape of the data from the data file.\n",
    "\n",
    "    Parameters:\n",
    "    - data_path (str): The path to the data file.\n",
    "\n",
    "    Returns:\n",
    "    - shape_info (dict): A dictionary where keys are column names and values are the number of elements (shape).\n",
    "    \"\"\"\n",
    "    with open(data_path, 'r') as f:\n",
    "        data = json.load(f)\n",
    "    shape_info = {col: len(data[col]) for col in data.keys()}\n",
    "    return shape_info\n",
    "\n",
    "data_shape = get_data_shape(data_path)\n",
    "print(data_shape)\n",
    "data_commitment_path = f\"{output_dir}/data_commitment.json\""
   ]
  },
  {
   "cell_type": "markdown",
   "metadata": {},
   "source": [
    "## Columns selected by the user"
   ]
  },
  {
   "cell_type": "code",
   "execution_count": 4,
   "metadata": {},
   "outputs": [],
   "source": [
    "# FIXME: this should be provided by users\n",
    "# selected_columns = [\"x\", \"y\"]\n",
    "selected_columns = [\"x\"]"
   ]
  },
  {
   "cell_type": "markdown",
   "metadata": {},
   "source": [
    "## User-defined Computation\n",
    "\n",
    "A computation should be of type `TComputation`. For example, the following code snippet defines a computation that computes the sum of the private data.\n",
    "\n",
    "```python\n",
    "def computation(state: State, x: list[torch.Tensor]):\n",
    "    out_0 = state.median(x[0])\n",
    "    out_1 = state.median(x[1])\n",
    "    return state.mean(torch.cat([out_0.unsqueeze(0), out_1.unsqueeze(0)]).reshape(-1,1))\n",
    "```\n",
    "\n",
    "FIXME: The following code snippet is entirely from the user. You MUST check\n",
    "1. the code only performs zkstats-related operations.\n",
    "2. the computation must not leak any information about the private data."
   ]
  },
  {
   "cell_type": "code",
   "execution_count": 5,
   "metadata": {},
   "outputs": [],
   "source": [
    "# This is just a dummy computation. Replace it with user's computation\n",
    "import torch\n",
    "from zkstats.computation import State\n",
    "\n",
    "def computation(state: State, x: list[torch.Tensor]):\n",
    "    # out_0 = state.median(x[0])\n",
    "    # out_1 = state.median(x[1])\n",
    "    # # return state.mean(torch.cat([out_0.unsqueeze(0), out_1.unsqueeze(0)]).reshape(-1,1)), out_0\n",
    "    # return out_0, out_1\n",
    "    return state.mean(x[0]), state.median(x[0])"
   ]
  },
  {
   "cell_type": "markdown",
   "metadata": {},
   "source": [
    "Generate settings and setup with user's computation."
   ]
  },
  {
   "cell_type": "code",
   "execution_count": 6,
   "metadata": {},
   "outputs": [
    {
     "name": "stderr",
     "output_type": "stream",
     "text": [
      "/Users/mhchia/Library/Caches/pypoetry/virtualenvs/zkstats-brXmXluj-py3.12/lib/python3.12/site-packages/torch/onnx/symbolic_opset9.py:2174: FutureWarning: 'torch.onnx.symbolic_opset9._cast_Bool' is deprecated in version 2.0 and will be removed in the future. Please Avoid using this function and create a Cast node instead.\n",
      "  return fn(g, to_cast_func(g, input, False), to_cast_func(g, other, False))\n",
      "/Users/mhchia/Library/Caches/pypoetry/virtualenvs/zkstats-brXmXluj-py3.12/lib/python3.12/site-packages/torch/onnx/utils.py:1703: UserWarning: The exported ONNX model failed ONNX shape inference. The model will not be executable by the ONNX Runtime. If this is unintended and you believe there is a bug, please report an issue at https://github.com/pytorch/pytorch/issues. Error reported by strict ONNX shape inference: [ShapeInferenceError] (op_type:Where, node name: /Where_1): Y has inconsistent type tensor(float) (Triggered internally at /Users/runner/work/pytorch/pytorch/pytorch/torch/csrc/jit/serialization/export.cpp:1490.)\n",
      "  _C._check_onnx_proto(proto)\n"
     ]
    },
    {
     "name": "stdout",
     "output_type": "stream",
     "text": [
      "==== Generate & Calibrate Setting ====\n"
     ]
    },
    {
     "name": "stderr",
     "output_type": "stream",
     "text": [
      "\n",
      "\n",
      " <------------- Numerical Fidelity Report (input_scale: 3, param_scale: 3, scale_input_multiplier: 10) ------------->\n",
      "\n",
      "+---------------+--------------+------------+--------------+----------------+------------------+---------------+---------------+--------------------+--------------------+------------------------+\n",
      "| mean_error    | median_error | max_error  | min_error    | mean_abs_error | median_abs_error | max_abs_error | min_abs_error | mean_squared_error | mean_percent_error | mean_abs_percent_error |\n",
      "+---------------+--------------+------------+--------------+----------------+------------------+---------------+---------------+--------------------+--------------------+------------------------+\n",
      "| -0.0023816426 | 0.04285431   | 0.04285431 | -0.049999237 | 0.030951181    | 0.04285431       | 0.049999237   | 0             | 0.0014454719       | -0.0000836013      | 0.0006378884           |\n",
      "+---------------+--------------+------------+--------------+----------------+------------------+---------------+---------------+--------------------+--------------------+------------------------+\n",
      "\n",
      "\n"
     ]
    },
    {
     "name": "stdout",
     "output_type": "stream",
     "text": [
      "scale:  [3]\n",
      "setting:  {\"run_args\":{\"tolerance\":{\"val\":0.0,\"scale\":1.0},\"input_scale\":3,\"param_scale\":3,\"scale_rebase_multiplier\":10,\"lookup_range\":[-856,754],\"logrows\":11,\"num_inner_cols\":2,\"variables\":[[\"batch_size\",1]],\"input_visibility\":{\"Hashed\":{\"hash_is_public\":true,\"outlets\":[]}},\"output_visibility\":\"Public\",\"param_visibility\":\"Fixed\",\"div_rebasing\":false,\"rebase_frac_zero_constants\":false,\"check_mode\":\"UNSAFE\"},\"num_rows\":1312,\"total_assignments\":502,\"total_const_size\":212,\"model_instance_shapes\":[[1],[1],[1]],\"model_output_scales\":[0,3,3],\"model_input_scales\":[3],\"module_sizes\":{\"kzg\":[],\"poseidon\":[1312,[1]]},\"required_lookups\":[{\"Floor\":{\"scale\":16.0}},{\"GreaterThan\":{\"a\":0.0}},\"Abs\",\"ReLU\"],\"required_range_checks\":[],\"check_mode\":\"UNSAFE\",\"version\":\"9.1.0\",\"num_blinding_factors\":null,\"timestamp\":1718984185328}\n"
     ]
    }
   ],
   "source": [
    "_, model = computation_to_model(computation, precal_witness_path, isProver=True)\n",
    "prover_gen_settings(\n",
    "    data_path,\n",
    "    selected_columns,\n",
    "    comb_data_path,\n",
    "    model,\n",
    "    model_onnx_path,\n",
    "    [3],\n",
    "    \"resources\",\n",
    "    settings_path,\n",
    ")\n",
    "\n",
    "# Determine which srs to use with the logrows in the settings.json\n",
    "with open(settings_path, \"r\") as f:\n",
    "    settings = json.load(f)\n",
    "logrows = int(settings[\"run_args\"][\"logrows\"])\n",
    "srs_path = f'~/.ezkl/srs/kzg{logrows}.srs'"
   ]
  },
  {
   "cell_type": "code",
   "execution_count": 7,
   "metadata": {},
   "outputs": [
    {
     "name": "stdout",
     "output_type": "stream",
     "text": [
      "==== setting up ezkl ====\n",
      "Time setup: 0.5101752281188965 seconds\n"
     ]
    }
   ],
   "source": [
    "setup(model_onnx_path, compiled_model_path, settings_path, vk_path, pk_path)"
   ]
  },
  {
   "cell_type": "markdown",
   "metadata": {},
   "source": [
    "Generate proof with your data and user's computation."
   ]
  },
  {
   "cell_type": "code",
   "execution_count": 8,
   "metadata": {},
   "outputs": [
    {
     "name": "stdout",
     "output_type": "stream",
     "text": [
      "==== Generating Witness ====\n",
      "witness boolean:  1.0\n",
      "witness result 1 : 51.5\n",
      "==== Generating Proof ====\n",
      "proof:  {'instances': [['3bea079e2a500a3285d05fd174263a5ffd78c2dd63131c52abd2a199f786f601', '0100000000000000000000000000000000000000000000000000000000000000', '9c01000000000000000000000000000000000000000000000000000000000000', '7201000000000000000000000000000000000000000000000000000000000000']], 'proof': '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', 'transcript_type': 'EVM'}\n",
      "Time gen prf: 0.641740083694458 seconds\n"
     ]
    }
   ],
   "source": [
    "prover_gen_proof(\n",
    "    model_onnx_path,\n",
    "    comb_data_path,\n",
    "    witness_path,\n",
    "    compiled_model_path,\n",
    "    settings_path,\n",
    "    proof_path,\n",
    "    pk_path,\n",
    ")"
   ]
  },
  {
   "cell_type": "markdown",
   "metadata": {},
   "source": [
    "## Verify the proof to ensure it is correct\n",
    "NOTE: The following section is to illustrate what should be done on the user (data consumer) side. This step is not required by the data provider."
   ]
  },
  {
   "cell_type": "code",
   "execution_count": 9,
   "metadata": {},
   "outputs": [
    {
     "ename": "NameError",
     "evalue": "name 'verifier_verify' is not defined",
     "output_type": "error",
     "traceback": [
      "\u001b[0;31m---------------------------------------------------------------------------\u001b[0m",
      "\u001b[0;31mNameError\u001b[0m                                 Traceback (most recent call last)",
      "Cell \u001b[0;32mIn[9], line 2\u001b[0m\n\u001b[1;32m      1\u001b[0m \u001b[38;5;66;03m# verify the proof\u001b[39;00m\n\u001b[0;32m----> 2\u001b[0m \u001b[43mverifier_verify\u001b[49m(proof_path, settings_path, vk_path, selected_columns, data_commitment_path)\n",
      "\u001b[0;31mNameError\u001b[0m: name 'verifier_verify' is not defined"
     ]
    }
   ],
   "source": [
    "# verify the proof\n",
    "verifier_verify(proof_path, settings_path, vk_path, selected_columns, data_commitment_path)"
   ]
  },
  {
   "cell_type": "markdown",
   "metadata": {},
   "source": [
    "Print the file paths. You should share the following files back to the user for them to verify the proof. You **SHOULD NOT** share more files otherwise data might be leaked."
   ]
  },
  {
   "cell_type": "code",
   "execution_count": null,
   "metadata": {},
   "outputs": [],
   "source": [
    "print(\"Model onnx:\\t\\t\", model_onnx_path)\n",
    "print(\"Settings:\\t\\t\", settings_path)\n",
    "print(\"Proof:\\t\\t\\t\", proof_path)\n",
    "print(\"Verification key:\\t\", vk_path)\n",
    "print(\"Srs path:\\t\\t\", srs_path)"
   ]
  }
 ],
 "metadata": {
  "kernelspec": {
   "display_name": ".venv",
   "language": "python",
   "name": "python3"
  },
  "language_info": {
   "codemirror_mode": {
    "name": "ipython",
    "version": 3
   },
   "file_extension": ".py",
   "mimetype": "text/x-python",
   "name": "python",
   "nbconvert_exporter": "python",
   "pygments_lexer": "ipython3",
   "version": "3.12.1"
  }
 },
 "nbformat": 4,
 "nbformat_minor": 2
}
